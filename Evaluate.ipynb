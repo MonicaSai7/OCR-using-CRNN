{
  "nbformat": 4,
  "nbformat_minor": 0,
  "metadata": {
    "accelerator": "GPU",
    "colab": {
      "name": "Evaluate.ipynb",
      "provenance": [],
      "collapsed_sections": [],
      "toc_visible": true,
      "machine_shape": "hm",
      "include_colab_link": true
    },
    "kernelspec": {
      "display_name": "Python 3",
      "language": "python",
      "name": "python3"
    },
    "language_info": {
      "codemirror_mode": {
        "name": "ipython",
        "version": 3
      },
      "file_extension": ".py",
      "mimetype": "text/x-python",
      "name": "python",
      "nbconvert_exporter": "python",
      "pygments_lexer": "ipython3",
      "version": "3.7.6"
    }
  },
  "cells": [
    {
      "cell_type": "markdown",
      "metadata": {
        "id": "view-in-github",
        "colab_type": "text"
      },
      "source": [
        "<a href=\"https://colab.research.google.com/github/MonicaSai7/OCR-using-CRNN/blob/master/Evaluate.ipynb\" target=\"_parent\"><img src=\"https://colab.research.google.com/assets/colab-badge.svg\" alt=\"Open In Colab\"/></a>"
      ]
    },
    {
      "cell_type": "code",
      "metadata": {
        "colab_type": "code",
        "id": "kNwEcP1SsR0M",
        "outputId": "755df978-a1a6-4d09-d800-046c04463315",
        "colab": {
          "base_uri": "https://localhost:8080/",
          "height": 122
        }
      },
      "source": [
        "from google.colab import drive\n",
        "drive.mount('/content/gdrive')"
      ],
      "execution_count": 0,
      "outputs": [
        {
          "output_type": "stream",
          "text": [
            "Go to this URL in a browser: https://accounts.google.com/o/oauth2/auth?client_id=947318989803-6bn6qk8qdgf4n4g3pfee6491hc0brc4i.apps.googleusercontent.com&redirect_uri=urn%3aietf%3awg%3aoauth%3a2.0%3aoob&response_type=code&scope=email%20https%3a%2f%2fwww.googleapis.com%2fauth%2fdocs.test%20https%3a%2f%2fwww.googleapis.com%2fauth%2fdrive%20https%3a%2f%2fwww.googleapis.com%2fauth%2fdrive.photos.readonly%20https%3a%2f%2fwww.googleapis.com%2fauth%2fpeopleapi.readonly\n",
            "\n",
            "Enter your authorization code:\n",
            "··········\n",
            "Mounted at /content/gdrive\n"
          ],
          "name": "stdout"
        }
      ]
    },
    {
      "cell_type": "markdown",
      "metadata": {
        "colab_type": "text",
        "id": "OHqwkWO1r1lw"
      },
      "source": [
        "# Libraries"
      ]
    },
    {
      "cell_type": "code",
      "metadata": {
        "colab_type": "code",
        "id": "8IVd8BNlr1l3",
        "colab": {}
      },
      "source": [
        "import os\n",
        "import string\n",
        "import cv2\n",
        "import h5py\n",
        "import fnmatch\n",
        "import numpy as np\n",
        "from tensorflow.keras.preprocessing.sequence import pad_sequences\n",
        "from tensorflow.keras import backend as K\n",
        "from tensorflow.keras import Model\n",
        "from tensorflow.keras.layers import Input, Conv2D, MaxPool2D, BatchNormalization, Lambda, Bidirectional, LSTM, Dense"
      ],
      "execution_count": 0,
      "outputs": []
    },
    {
      "cell_type": "markdown",
      "metadata": {
        "colab_type": "text",
        "id": "2PzdseLjr1mE"
      },
      "source": [
        "# Data Acquisition"
      ]
    },
    {
      "cell_type": "code",
      "metadata": {
        "colab_type": "code",
        "id": "a7-aGmrgL3nQ",
        "outputId": "d201b526-fcba-4d58-ed48-8af5bcdd2380",
        "colab": {
          "base_uri": "https://localhost:8080/",
          "height": 425
        }
      },
      "source": [
        "with h5py.File('mjsynth_test.hdf5', 'r') as f:\n",
        "    print(list(f.keys()))\n",
        "    test_img = f.get('test_img').value\n",
        "    test_labels = f.get('test_labels').value"
      ],
      "execution_count": 0,
      "outputs": [
        {
          "output_type": "stream",
          "text": [
            "['test_img', 'test_labels']\n"
          ],
          "name": "stdout"
        }
      ]
    },
    {
      "cell_type": "code",
      "metadata": {
        "id": "KFnrQLao3gaT",
        "colab_type": "code",
        "colab": {},
        "outputId": "c7d3bb94-0331-4d84-ffbb-d1d5473a16a4"
      },
      "source": [
        "test_img[0]\n",
        "test_labels[0]"
      ],
      "execution_count": 0,
      "outputs": [
        {
          "output_type": "execute_result",
          "data": {
            "text/plain": [
              "'kaunas'"
            ]
          },
          "metadata": {
            "tags": []
          },
          "execution_count": 3
        }
      ]
    },
    {
      "cell_type": "code",
      "metadata": {
        "colab_type": "code",
        "id": "owZsY4Hxr1md",
        "outputId": "f889ac9d-349f-4bb9-8b96-5a80b9bbf64f",
        "colab": {
          "base_uri": "https://localhost:8080/",
          "height": 51
        }
      },
      "source": [
        "char_list = string.ascii_letters + string.digits\n",
        "print(char_list)\n",
        "print(len(char_list))"
      ],
      "execution_count": 0,
      "outputs": [
        {
          "output_type": "stream",
          "text": [
            "abcdefghijklmnopqrstuvwxyzABCDEFGHIJKLMNOPQRSTUVWXYZ0123456789\n",
            "62\n"
          ],
          "name": "stdout"
        }
      ]
    },
    {
      "cell_type": "code",
      "metadata": {
        "colab_type": "code",
        "id": "I8nGXCFbr1mp",
        "colab": {}
      },
      "source": [
        "def encode_to_labels(text):\n",
        "    code = []\n",
        "    for index, char in enumerate(text):\n",
        "        code.append(char_list.index(char))\n",
        "    return code"
      ],
      "execution_count": 0,
      "outputs": []
    },
    {
      "cell_type": "code",
      "metadata": {
        "colab_type": "code",
        "id": "K9HDLqGtr1m3",
        "colab": {}
      },
      "source": [
        "length_checker = np.vectorize(len) \n",
        "max_test_label_len = max(length_checker(test_labels))\n",
        "max_label_len = max_test_label_len"
      ],
      "execution_count": 0,
      "outputs": []
    },
    {
      "cell_type": "markdown",
      "metadata": {
        "colab_type": "text",
        "id": "WgMrZxYABlaz"
      },
      "source": [
        "Label length is the length of each output text label and input length is the same for each input to the LSTM layer which is 31 in our architecture."
      ]
    },
    {
      "cell_type": "code",
      "metadata": {
        "colab_type": "code",
        "id": "9ar21z20r1nJ",
        "colab": {}
      },
      "source": [
        "test_label_length = []\n",
        "test_input_length = []\n",
        "test_txt = []\n",
        "\n",
        "for i in range(len(test_labels)):\n",
        "    test_label_length.append(len(test_labels[i]))\n",
        "    test_input_length.append(31)\n",
        "    test_txt.append(encode_to_labels(test_labels[i]))"
      ],
      "execution_count": 0,
      "outputs": []
    },
    {
      "cell_type": "code",
      "metadata": {
        "colab_type": "code",
        "id": "2pMunBxwr1nb",
        "colab": {}
      },
      "source": [
        "test_padded_txt = pad_sequences(test_txt, maxlen=max_label_len, padding='post', value = len(char_list))"
      ],
      "execution_count": 0,
      "outputs": []
    },
    {
      "cell_type": "markdown",
      "metadata": {
        "colab_type": "text",
        "id": "dhRhUSpIr1nt"
      },
      "source": [
        "# Model Architecture\n",
        "\n",
        "### Model = CNN + RNN + CTC loss"
      ]
    },
    {
      "cell_type": "code",
      "metadata": {
        "colab_type": "code",
        "id": "Cxi6De8Ir1nw",
        "colab": {}
      },
      "source": [
        "# input with shape of height=32 and width=128 \n",
        "inputs = Input(shape=(32,128,1))\n",
        " \n",
        "# convolution layer with kernel size (3,3)\n",
        "conv_1 = Conv2D(64, (3,3), activation = 'relu', padding='same')(inputs)\n",
        "# poolig layer with kernel size (2,2)\n",
        "pool_1 = MaxPool2D(pool_size=(2, 2), strides=2)(conv_1)\n",
        " \n",
        "conv_2 = Conv2D(128, (3,3), activation = 'relu', padding='same')(pool_1)\n",
        "pool_2 = MaxPool2D(pool_size=(2, 2), strides=2)(conv_2)\n",
        " \n",
        "conv_3 = Conv2D(256, (3,3), activation = 'relu', padding='same')(pool_2)\n",
        " \n",
        "conv_4 = Conv2D(256, (3,3), activation = 'relu', padding='same')(conv_3)\n",
        "# poolig layer with kernel size (2,1)\n",
        "pool_4 = MaxPool2D(pool_size=(2, 1))(conv_4)\n",
        " \n",
        "conv_5 = Conv2D(512, (3,3), activation = 'relu', padding='same')(pool_4)\n",
        "# Batch normalization layer\n",
        "batch_norm_5 = BatchNormalization()(conv_5)\n",
        " \n",
        "conv_6 = Conv2D(512, (3,3), activation = 'relu', padding='same')(batch_norm_5)\n",
        "batch_norm_6 = BatchNormalization()(conv_6)\n",
        "pool_6 = MaxPool2D(pool_size=(2, 1))(batch_norm_6)\n",
        " \n",
        "conv_7 = Conv2D(512, (2,2), activation = 'relu')(pool_6)\n",
        " \n",
        "squeezed = Lambda(lambda x: K.squeeze(x, 1))(conv_7)\n",
        " \n",
        "# bidirectional LSTM layers with units=128\n",
        "blstm_1 = Bidirectional(LSTM(128, return_sequences=True, dropout = 0.2))(squeezed)\n",
        "blstm_2 = Bidirectional(LSTM(128, return_sequences=True, dropout = 0.2))(blstm_1)\n",
        " \n",
        "outputs = Dense(len(char_list)+1, activation = 'softmax')(blstm_2)\n",
        " \n",
        "act_model = Model(inputs, outputs)"
      ],
      "execution_count": 0,
      "outputs": []
    },
    {
      "cell_type": "code",
      "metadata": {
        "colab_type": "code",
        "id": "Qydo3GsBr1n3",
        "colab": {}
      },
      "source": [
        "labels = Input(name='the_labels', shape=[max_label_len], dtype='float32')\n",
        "input_length = Input(name='input_length', shape=[1], dtype='int64')\n",
        "label_length = Input(name='label_length', shape=[1], dtype='int64')\n",
        " \n",
        " \n",
        "def ctc_lambda_func(args):\n",
        "    y_pred, labels, input_length, label_length = args\n",
        " \n",
        "    return K.ctc_batch_cost(labels, y_pred, input_length, label_length)\n",
        " \n",
        " \n",
        "loss_out = Lambda(ctc_lambda_func, output_shape=(1,), name='ctc')([outputs, labels, input_length, label_length])\n",
        "model = Model(inputs=[inputs, labels, input_length, label_length], outputs=loss_out)"
      ],
      "execution_count": 0,
      "outputs": []
    },
    {
      "cell_type": "code",
      "metadata": {
        "colab_type": "code",
        "id": "MWcnkY-Or1oC",
        "outputId": "117da7db-1b3f-4198-cb51-66e260a62c6c",
        "colab": {
          "base_uri": "https://localhost:8080/",
          "height": 34
        }
      },
      "source": [
        "type(labels)"
      ],
      "execution_count": 0,
      "outputs": [
        {
          "output_type": "execute_result",
          "data": {
            "text/plain": [
              "tensorflow.python.framework.ops.Tensor"
            ]
          },
          "metadata": {
            "tags": []
          },
          "execution_count": 33
        }
      ]
    },
    {
      "cell_type": "code",
      "metadata": {
        "colab_type": "code",
        "id": "U9VwPW_ur1op",
        "colab": {}
      },
      "source": [
        "# load the saved best model weights\n",
        "act_model.load_weights('best_model.hdf5')\n",
        "\n",
        "# predict outputs on validation images\n",
        "prediction = act_model.predict(test_img)\n",
        " \n",
        "# use CTC decoder\n",
        "out = K.get_value(K.ctc_decode(prediction, input_length=np.ones(prediction.shape[0])*prediction.shape[1],\n",
        "                         greedy=True)[0][0])"
      ],
      "execution_count": 0,
      "outputs": []
    },
    {
      "cell_type": "code",
      "metadata": {
        "id": "6Yaz4HIE3gbx",
        "colab_type": "code",
        "colab": {}
      },
      "source": [
        "# see the results\n",
        "i = 0\n",
        "count = 0\n",
        "for x in out:\n",
        "    #print(valid_orig_txt[i])\n",
        "    r = []\n",
        "    for p in x:  \n",
        "        if int(p) != -1:\n",
        "            #print(char_list[int(p)], end = '')   \n",
        "            r.append(char_list[int(p)])    \n",
        "    #print('\\n')\n",
        "    print(test_labels[i],''.join(r) )\n",
        "    if test_labels[i].lower() == ''.join(r).lower():\n",
        "      count += 1\n",
        "    i+=1\n",
        "print(count,'/',i,'=',count/i)"
      ],
      "execution_count": 0,
      "outputs": []
    },
    {
      "cell_type": "markdown",
      "metadata": {
        "id": "Va0R4Weo3gb3",
        "colab_type": "text"
      },
      "source": [
        "## Check for dynamically uploaded image"
      ]
    },
    {
      "cell_type": "code",
      "metadata": {
        "id": "E5_l6kdE3gb5",
        "colab_type": "code",
        "colab": {}
      },
      "source": [
        "addr = 'test/141_Correspondents_17170.jpg'\n",
        "test_label = \"Correspondents\"\n",
        "\n",
        "img = cv2.imread(addr)\n",
        "img = cv2.cvtColor(img, cv2.COLOR_BGR2GRAY)\n",
        "\n",
        "scale_percent = 50\n",
        "\n",
        "#calculate the 50 percent of original dimensions\n",
        "width = 32\n",
        "height = 128\n",
        "\n",
        "# dsize\n",
        "dsize = (height, width)\n",
        "img = cv2.resize(img, dsize)\n",
        "img = np.expand_dims(img , axis = 2)\n",
        "img = img/255."
      ],
      "execution_count": 0,
      "outputs": []
    },
    {
      "cell_type": "code",
      "metadata": {
        "id": "kVnmsabW3gb_",
        "colab_type": "code",
        "colab": {},
        "outputId": "b6383216-3a4c-4b07-a433-3ec45f7a30db"
      },
      "source": [
        "img.shape"
      ],
      "execution_count": 0,
      "outputs": [
        {
          "output_type": "execute_result",
          "data": {
            "text/plain": [
              "(32, 128, 1)"
            ]
          },
          "metadata": {
            "tags": []
          },
          "execution_count": 63
        }
      ]
    },
    {
      "cell_type": "code",
      "metadata": {
        "colab_type": "code",
        "id": "2L2fR9X2r1o2",
        "colab": {}
      },
      "source": [
        "# load the saved best model weights\n",
        "act_model.load_weights('best_model.hdf5')\n",
        "\n",
        "# predict outputs on validation images\n",
        "prediction = act_model.predict(img[np.newaxis,:,:])\n",
        " \n",
        "# use CTC decoder\n",
        "out = K.get_value(K.ctc_decode(prediction, input_length=np.ones(prediction.shape[0])*prediction.shape[1],\n",
        "                         greedy=True)[0][0])"
      ],
      "execution_count": 0,
      "outputs": []
    },
    {
      "cell_type": "code",
      "metadata": {
        "id": "4FwkIVl73gcK",
        "colab_type": "code",
        "colab": {},
        "outputId": "6c276daa-52a2-40ce-8784-e485e525c371"
      },
      "source": [
        "# see the results\n",
        "count = 0\n",
        "for x in out:\n",
        "    #print(valid_orig_txt[i])\n",
        "    r = []\n",
        "    for p in x:  \n",
        "        if int(p) != -1:\n",
        "            #print(char_list[int(p)], end = '')   \n",
        "            r.append(char_list[int(p)])    \n",
        "    #print('\\n')\n",
        "    print(test_label,''.join(r) )"
      ],
      "execution_count": 0,
      "outputs": [
        {
          "output_type": "stream",
          "text": [
            "Correspondents Correspondents\n"
          ],
          "name": "stdout"
        }
      ]
    },
    {
      "cell_type": "code",
      "metadata": {
        "id": "us6NElIE3gcS",
        "colab_type": "code",
        "colab": {}
      },
      "source": [
        ""
      ],
      "execution_count": 0,
      "outputs": []
    }
  ]
}