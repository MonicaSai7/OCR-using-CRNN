{
  "nbformat": 4,
  "nbformat_minor": 0,
  "metadata": {
    "kernelspec": {
      "display_name": "Python 3",
      "language": "python",
      "name": "python3"
    },
    "language_info": {
      "codemirror_mode": {
        "name": "ipython",
        "version": 3
      },
      "file_extension": ".py",
      "mimetype": "text/x-python",
      "name": "python",
      "nbconvert_exporter": "python",
      "pygments_lexer": "ipython3",
      "version": "3.7.6"
    },
    "colab": {
      "name": "CRNN_HDF5.ipynb",
      "provenance": [],
      "toc_visible": true,
      "include_colab_link": true
    },
    "accelerator": "GPU"
  },
  "cells": [
    {
      "cell_type": "markdown",
      "metadata": {
        "id": "view-in-github",
        "colab_type": "text"
      },
      "source": [
        "<a href=\"https://colab.research.google.com/github/MonicaSai7/OCR-using-CRNN/blob/master/CRNN_HDF5.ipynb\" target=\"_parent\"><img src=\"https://colab.research.google.com/assets/colab-badge.svg\" alt=\"Open In Colab\"/></a>"
      ]
    },
    {
      "cell_type": "code",
      "metadata": {
        "id": "9H3BXCsQFl8w",
        "colab_type": "code",
        "colab": {
          "base_uri": "https://localhost:8080/",
          "height": 122
        },
        "outputId": "1c5491cc-9554-4593-afac-5cf3b855c4d0"
      },
      "source": [
        "from google.colab import drive\n",
        "drive.mount('/content/drive')"
      ],
      "execution_count": 1,
      "outputs": [
        {
          "output_type": "stream",
          "text": [
            "Go to this URL in a browser: https://accounts.google.com/o/oauth2/auth?client_id=947318989803-6bn6qk8qdgf4n4g3pfee6491hc0brc4i.apps.googleusercontent.com&redirect_uri=urn%3aietf%3awg%3aoauth%3a2.0%3aoob&response_type=code&scope=email%20https%3a%2f%2fwww.googleapis.com%2fauth%2fdocs.test%20https%3a%2f%2fwww.googleapis.com%2fauth%2fdrive%20https%3a%2f%2fwww.googleapis.com%2fauth%2fdrive.photos.readonly%20https%3a%2f%2fwww.googleapis.com%2fauth%2fpeopleapi.readonly\n",
            "\n",
            "Enter your authorization code:\n",
            "··········\n",
            "Mounted at /content/drive\n"
          ],
          "name": "stdout"
        }
      ]
    },
    {
      "cell_type": "markdown",
      "metadata": {
        "id": "3cLK4MC3CRo8",
        "colab_type": "text"
      },
      "source": [
        "# Libraries"
      ]
    },
    {
      "cell_type": "code",
      "metadata": {
        "id": "0JcGeK8uCRpH",
        "colab_type": "code",
        "colab": {}
      },
      "source": [
        "import os\n",
        "import string\n",
        "import cv2\n",
        "import h5py\n",
        "import fnmatch\n",
        "import numpy as np\n",
        "import matplotlib.pyplot as plt\n",
        "from tensorflow.keras.preprocessing.sequence import pad_sequences\n",
        "from tensorflow.keras import backend as K\n",
        "from tensorflow.keras import Model\n",
        "from tensorflow.keras.layers import Input, Conv2D, MaxPool2D, BatchNormalization, Lambda, Bidirectional, LSTM, Dense"
      ],
      "execution_count": 2,
      "outputs": []
    },
    {
      "cell_type": "code",
      "metadata": {
        "id": "44b8Bx0YJq8a",
        "colab_type": "code",
        "colab": {
          "base_uri": "https://localhost:8080/",
          "height": 102
        },
        "outputId": "be610ce1-99ff-4a5a-b9be-3cb9ea554321"
      },
      "source": [
        "!pip install keract"
      ],
      "execution_count": null,
      "outputs": [
        {
          "output_type": "stream",
          "text": [
            "Collecting keract\n",
            "  Downloading https://files.pythonhosted.org/packages/bd/09/43bef4b23b5faa51c0c0b75cce03f5000cadacdc13a82dba79747768934d/keract-4.2.2-py3-none-any.whl\n",
            "Requirement already satisfied: numpy>=1.18.5 in /usr/local/lib/python3.6/dist-packages (from keract) (1.18.5)\n",
            "Installing collected packages: keract\n",
            "Successfully installed keract-4.2.2\n"
          ],
          "name": "stdout"
        }
      ]
    },
    {
      "cell_type": "markdown",
      "metadata": {
        "id": "8Afe_EIJCRpS",
        "colab_type": "text"
      },
      "source": [
        "# Data Acquisition"
      ]
    },
    {
      "cell_type": "code",
      "metadata": {
        "id": "bpXVr_dvCRpV",
        "colab_type": "code",
        "colab": {}
      },
      "source": [
        "with h5py.File(\"/content/drive/My Drive/mjsynth_1000000.hdf5\", 'r') as f:\n",
        "    training_img = f.get('train_img').value\n",
        "    orig_txt = f.get('train_labels').value\n",
        "    valid_img = f.get('valid_img').value\n",
        "    valid_orig_txt = f.get('valid_labels').value\n",
        "f.close()"
      ],
      "execution_count": null,
      "outputs": []
    },
    {
      "cell_type": "code",
      "metadata": {
        "id": "oSsEDVUnCRpm",
        "colab_type": "code",
        "colab": {}
      },
      "source": [
        "type(training_img[0])"
      ],
      "execution_count": null,
      "outputs": []
    },
    {
      "cell_type": "code",
      "metadata": {
        "id": "8jmopSF_CRpy",
        "colab_type": "code",
        "colab": {}
      },
      "source": [
        "char_list = string.ascii_letters + string.digits\n",
        "print(char_list)\n",
        "print(len(char_list))"
      ],
      "execution_count": null,
      "outputs": []
    },
    {
      "cell_type": "code",
      "metadata": {
        "id": "C5rKU9oWCRp8",
        "colab_type": "code",
        "colab": {}
      },
      "source": [
        "def encode_to_labels(text):\n",
        "    code = []\n",
        "    for index, char in enumerate(text):\n",
        "        code.append(char_list.index(char))\n",
        "    return code"
      ],
      "execution_count": null,
      "outputs": []
    },
    {
      "cell_type": "code",
      "metadata": {
        "id": "zizrXeLICRqL",
        "colab_type": "code",
        "colab": {}
      },
      "source": [
        "length_checker = np.vectorize(len) \n",
        "max_train_label_len = max(length_checker(orig_txt))\n",
        "max_test_label_len = max(length_checker(valid_orig_txt))\n",
        "max_label_len = max(max_train_label_len, max_test_label_len)"
      ],
      "execution_count": null,
      "outputs": []
    },
    {
      "cell_type": "code",
      "metadata": {
        "id": "5fj--UP4CRqU",
        "colab_type": "code",
        "colab": {}
      },
      "source": [
        "train_label_length = []\n",
        "train_input_length = []\n",
        "training_txt = []\n",
        "\n",
        "for i in range(len(orig_txt)):\n",
        "    train_label_length.append(len(orig_txt[i]))\n",
        "    train_input_length.append(31)\n",
        "    training_txt.append(encode_to_labels(orig_txt[i]))"
      ],
      "execution_count": null,
      "outputs": []
    },
    {
      "cell_type": "code",
      "metadata": {
        "id": "U2DBGcVqCRqb",
        "colab_type": "code",
        "colab": {}
      },
      "source": [
        "valid_label_length = []\n",
        "valid_input_length = []\n",
        "valid_txt = []\n",
        "\n",
        "for i in range(len(valid_orig_txt)):\n",
        "    valid_label_length.append(len(orig_txt[i]))\n",
        "    valid_input_length.append(31)\n",
        "    valid_txt.append(encode_to_labels(valid_orig_txt[i]))"
      ],
      "execution_count": null,
      "outputs": []
    },
    {
      "cell_type": "code",
      "metadata": {
        "id": "3nspS-pwCRql",
        "colab_type": "code",
        "colab": {}
      },
      "source": [
        "train_padded_txt = pad_sequences(training_txt, maxlen=max_label_len, padding='post', value = len(char_list))\n",
        "valid_padded_txt = pad_sequences(valid_txt, maxlen=max_label_len, padding='post', value = len(char_list))"
      ],
      "execution_count": null,
      "outputs": []
    },
    {
      "cell_type": "markdown",
      "metadata": {
        "id": "i-P7NtK6CRqw",
        "colab_type": "text"
      },
      "source": [
        "# Model Architecture\n",
        "\n",
        "### Model = CNN + RNN + CTC loss"
      ]
    },
    {
      "cell_type": "code",
      "metadata": {
        "id": "nRtsVovWCRqz",
        "colab_type": "code",
        "colab": {}
      },
      "source": [
        "# input with shape of height=32 and width=128 \n",
        "inputs = Input(shape=(32,128,1))\n",
        " \n",
        "# convolution layer with kernel size (3,3)\n",
        "conv_1 = Conv2D(64, (3,3), activation = 'relu', padding='same')(inputs)\n",
        "# poolig layer with kernel size (2,2)\n",
        "pool_1 = MaxPool2D(pool_size=(2, 2), strides=2)(conv_1)\n",
        " \n",
        "conv_2 = Conv2D(128, (3,3), activation = 'relu', padding='same')(pool_1)\n",
        "pool_2 = MaxPool2D(pool_size=(2, 2), strides=2)(conv_2)\n",
        " \n",
        "conv_3 = Conv2D(256, (3,3), activation = 'relu', padding='same')(pool_2)\n",
        " \n",
        "conv_4 = Conv2D(256, (3,3), activation = 'relu', padding='same')(conv_3)\n",
        "# poolig layer with kernel size (2,1)\n",
        "pool_4 = MaxPool2D(pool_size=(2, 1))(conv_4)\n",
        " \n",
        "conv_5 = Conv2D(512, (3,3), activation = 'relu', padding='same')(pool_4)\n",
        "# Batch normalization layer\n",
        "batch_norm_5 = BatchNormalization()(conv_5)\n",
        " \n",
        "conv_6 = Conv2D(512, (3,3), activation = 'relu', padding='same')(batch_norm_5)\n",
        "batch_norm_6 = BatchNormalization()(conv_6)\n",
        "pool_6 = MaxPool2D(pool_size=(2, 1))(batch_norm_6)\n",
        " \n",
        "conv_7 = Conv2D(512, (2,2), activation = 'relu')(pool_6)\n",
        " \n",
        "squeezed = Lambda(lambda x: K.squeeze(x, 1))(conv_7)\n",
        " \n",
        "# bidirectional LSTM layers with units=128\n",
        "blstm_1 = Bidirectional(LSTM(128, return_sequences=True, dropout = 0.2))(squeezed)\n",
        "blstm_2 = Bidirectional(LSTM(128, return_sequences=True, dropout = 0.2))(blstm_1)\n",
        " \n",
        "outputs = Dense(len(char_list)+1, activation = 'softmax')(blstm_2)\n",
        " \n",
        "act_model = Model(inputs, outputs)"
      ],
      "execution_count": null,
      "outputs": []
    },
    {
      "cell_type": "code",
      "metadata": {
        "id": "iy-ytzdbCRq6",
        "colab_type": "code",
        "colab": {}
      },
      "source": [
        "labels = Input(name='the_labels', shape=[max_label_len], dtype='float32')\n",
        "input_length = Input(name='input_length', shape=[1], dtype='int64')\n",
        "label_length = Input(name='label_length', shape=[1], dtype='int64')\n",
        " \n",
        " \n",
        "def ctc_lambda_func(args):\n",
        "    y_pred, labels, input_length, label_length = args\n",
        " \n",
        "    return K.ctc_batch_cost(labels, y_pred, input_length, label_length)\n",
        " \n",
        " \n",
        "loss_out = Lambda(ctc_lambda_func, output_shape=(1,), name='ctc')([outputs, labels, input_length, label_length])\n",
        "model = Model(inputs=[inputs, labels, input_length, label_length], outputs=loss_out)"
      ],
      "execution_count": null,
      "outputs": []
    },
    {
      "cell_type": "code",
      "metadata": {
        "id": "DJUlAPYxCRrB",
        "colab_type": "code",
        "colab": {
          "base_uri": "https://localhost:8080/",
          "height": 34
        },
        "outputId": "1742d905-049b-4cc2-cf1c-b3ce6e86ce9b"
      },
      "source": [
        "type(labels)"
      ],
      "execution_count": null,
      "outputs": [
        {
          "output_type": "execute_result",
          "data": {
            "text/plain": [
              "tensorflow.python.framework.ops.Tensor"
            ]
          },
          "metadata": {
            "tags": []
          },
          "execution_count": 40
        }
      ]
    },
    {
      "cell_type": "code",
      "metadata": {
        "id": "dD-UcTnCCRrN",
        "colab_type": "code",
        "colab": {}
      },
      "source": [
        "from tensorflow.keras.callbacks import ModelCheckpoint\n",
        "model.compile(loss={'ctc': lambda y_true, y_pred: y_pred}, optimizer = 'adam', metrics=['accuracy'])\n",
        " \n",
        "filepath=\"best_model.hdf5\"\n",
        "checkpoint = ModelCheckpoint(filepath=filepath, monitor='val_loss', verbose=1, save_best_only=True, mode='auto')\n",
        "callbacks_list = [checkpoint]"
      ],
      "execution_count": null,
      "outputs": []
    },
    {
      "cell_type": "code",
      "metadata": {
        "id": "KRiiVBYPCRrT",
        "colab_type": "code",
        "colab": {
          "base_uri": "https://localhost:8080/",
          "height": 697
        },
        "outputId": "dc19f1ed-00a8-49c5-de1f-c3e70ad080f3"
      },
      "source": [
        "training_img = np.array(training_img)\n",
        "train_input_length = np.array(train_input_length)\n",
        "train_label_length = np.array(train_label_length)\n",
        "\n",
        "valid_img = np.array(valid_img)\n",
        "valid_input_length = np.array(valid_input_length)\n",
        "valid_label_length = np.array(valid_label_length)\n",
        "\n",
        "batch_size = 256\n",
        "epochs = 10\n",
        "history = model.fit(x=[training_img, train_padded_txt, train_input_length, train_label_length], \n",
        "          y=np.zeros(len(training_img)), batch_size=batch_size, epochs = epochs, \n",
        "          validation_data = ([valid_img, valid_padded_txt, valid_input_length, \n",
        "                              valid_label_length], [np.zeros(len(valid_img))]), \n",
        "          verbose = 1, callbacks = callbacks_list)"
      ],
      "execution_count": null,
      "outputs": [
        {
          "output_type": "stream",
          "text": [
            "Epoch 1/10\n",
            "528/528 [==============================] - ETA: 0s - loss: 26.6351 - accuracy: 0.0000e+00\n",
            "Epoch 00001: val_loss improved from inf to 21.41273, saving model to best_model.hdf5\n",
            "528/528 [==============================] - 313s 592ms/step - loss: 26.6351 - accuracy: 0.0000e+00 - val_loss: 21.4127 - val_accuracy: 0.0000e+00\n",
            "Epoch 2/10\n",
            "528/528 [==============================] - ETA: 0s - loss: 16.7057 - accuracy: 0.0044\n",
            "Epoch 00002: val_loss improved from 21.41273 to 13.48270, saving model to best_model.hdf5\n",
            "528/528 [==============================] - 303s 573ms/step - loss: 16.7057 - accuracy: 0.0044 - val_loss: 13.4827 - val_accuracy: 0.0066\n",
            "Epoch 3/10\n",
            "528/528 [==============================] - ETA: 0s - loss: 5.3948 - accuracy: 0.2473\n",
            "Epoch 00003: val_loss improved from 13.48270 to 11.53374, saving model to best_model.hdf5\n",
            "528/528 [==============================] - 303s 573ms/step - loss: 5.3948 - accuracy: 0.2473 - val_loss: 11.5337 - val_accuracy: 0.2581\n",
            "Epoch 4/10\n",
            "528/528 [==============================] - ETA: 0s - loss: 3.7667 - accuracy: 0.4468\n",
            "Epoch 00004: val_loss did not improve from 11.53374\n",
            "528/528 [==============================] - 303s 574ms/step - loss: 3.7667 - accuracy: 0.4468 - val_loss: 11.9205 - val_accuracy: 0.3295\n",
            "Epoch 5/10\n",
            "528/528 [==============================] - ETA: 0s - loss: 3.1448 - accuracy: 0.5269\n",
            "Epoch 00005: val_loss did not improve from 11.53374\n",
            "528/528 [==============================] - 302s 572ms/step - loss: 3.1448 - accuracy: 0.5269 - val_loss: 12.3706 - val_accuracy: 0.3330\n",
            "Epoch 6/10\n",
            "528/528 [==============================] - ETA: 0s - loss: 2.7517 - accuracy: 0.5766\n",
            "Epoch 00006: val_loss did not improve from 11.53374\n",
            "528/528 [==============================] - 302s 572ms/step - loss: 2.7517 - accuracy: 0.5766 - val_loss: 12.6474 - val_accuracy: 0.3576\n",
            "Epoch 7/10\n",
            "528/528 [==============================] - ETA: 0s - loss: 2.5099 - accuracy: 0.6066\n",
            "Epoch 00007: val_loss did not improve from 11.53374\n",
            "528/528 [==============================] - 303s 574ms/step - loss: 2.5099 - accuracy: 0.6066 - val_loss: 12.7255 - val_accuracy: 0.3329\n",
            "Epoch 8/10\n",
            "528/528 [==============================] - ETA: 0s - loss: 2.3067 - accuracy: 0.6293\n",
            "Epoch 00008: val_loss did not improve from 11.53374\n",
            "528/528 [==============================] - 303s 574ms/step - loss: 2.3067 - accuracy: 0.6293 - val_loss: 13.4973 - val_accuracy: 0.3675\n",
            "Epoch 9/10\n",
            "528/528 [==============================] - ETA: 0s - loss: 2.2376 - accuracy: 0.6378\n",
            "Epoch 00009: val_loss did not improve from 11.53374\n",
            "528/528 [==============================] - 303s 573ms/step - loss: 2.2376 - accuracy: 0.6378 - val_loss: 13.5583 - val_accuracy: 0.3831\n",
            "Epoch 10/10\n",
            "528/528 [==============================] - ETA: 0s - loss: 1.9826 - accuracy: 0.6685\n",
            "Epoch 00010: val_loss did not improve from 11.53374\n",
            "528/528 [==============================] - 303s 573ms/step - loss: 1.9826 - accuracy: 0.6685 - val_loss: 14.1681 - val_accuracy: 0.3692\n"
          ],
          "name": "stdout"
        }
      ]
    },
    {
      "cell_type": "code",
      "metadata": {
        "id": "6NRnZtK4zqTE",
        "colab_type": "code",
        "colab": {}
      },
      "source": [
        "model.save_weights(\"model.hdf5\")"
      ],
      "execution_count": null,
      "outputs": []
    },
    {
      "cell_type": "code",
      "metadata": {
        "id": "XrklMqTQCRrw",
        "colab_type": "code",
        "colab": {
          "base_uri": "https://localhost:8080/",
          "height": 300
        },
        "outputId": "28d86439-34f0-45b3-a3ba-8f2d9308c4a2"
      },
      "source": [
        "plt.plot(history.history['accuracy'], label='accuracy')\n",
        "plt.plot(history.history['val_accuracy'], label = 'val_accuracy')\n",
        "plt.xlabel('Epoch')\n",
        "plt.ylabel('Accuracy')\n",
        "plt.ylim([0.1, 1])\n",
        "plt.legend(loc='lower right')\n",
        "\n",
        "#test_loss, test_acc = model.evaluate(test_images,  test_labels, verbose=2)"
      ],
      "execution_count": null,
      "outputs": [
        {
          "output_type": "execute_result",
          "data": {
            "text/plain": [
              "<matplotlib.legend.Legend at 0x7fa5cdc07828>"
            ]
          },
          "metadata": {
            "tags": []
          },
          "execution_count": 45
        },
        {
          "output_type": "display_data",
          "data": {
            "image/png": "[encoded data removed]",
            "text/plain": [
              "<Figure size 432x288 with 1 Axes>"
            ]
          },
          "metadata": {
            "tags": [],
            "needs_background": "light"
          }
        }
      ]
    },
    {
      "cell_type": "code",
      "metadata": {
        "id": "Vmm3c3NxPvuF",
        "colab_type": "code",
        "colab": {
          "base_uri": "https://localhost:8080/",
          "height": 51
        },
        "outputId": "21c73c65-8cb7-4994-e21f-fe856876ed58"
      },
      "source": [
        "scores = model.evaluate([training_img, train_padded_txt, train_input_length, train_label_length], np.zeros(len(training_img)), verbose=1)\n",
        "print(\"%s: %.2f%%\" % (model.metrics_names[1], scores[1]*100))"
      ],
      "execution_count": null,
      "outputs": [
        {
          "output_type": "stream",
          "text": [
            "4219/4219 [==============================] - 288s 68ms/step - loss: 1.8106 - accuracy: 0.6677\n",
            "accuracy: 66.77%\n"
          ],
          "name": "stdout"
        }
      ]
    }
  ]
}