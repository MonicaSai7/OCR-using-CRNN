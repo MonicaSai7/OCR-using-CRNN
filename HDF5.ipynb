{
 "cells": [
  {
   "cell_type": "code",
   "execution_count": 1,
   "metadata": {},
   "outputs": [],
   "source": [
    "import os\n",
    "import string\n",
    "import cv2\n",
    "import fnmatch\n",
    "import numpy as np\n",
    "import h5py"
   ]
  },
  {
   "cell_type": "code",
   "execution_count": 2,
   "metadata": {},
   "outputs": [
    {
     "name": "stdout",
     "output_type": "stream",
     "text": [
      "abcdefghijklmnopqrstuvwxyzABCDEFGHIJKLMNOPQRSTUVWXYZ0123456789\n"
     ]
    }
   ],
   "source": [
    "char_list = string.ascii_letters + string.digits\n",
    "print(char_list)"
   ]
  },
  {
   "cell_type": "code",
   "execution_count": 3,
   "metadata": {},
   "outputs": [],
   "source": [
    "def encode_to_labels(text):\n",
    "    code = []\n",
    "    for index, char in enumerate(text):\n",
    "        code.append(char_list.index(char))\n",
    "    return code"
   ]
  },
  {
   "cell_type": "code",
   "execution_count": 4,
   "metadata": {},
   "outputs": [
    {
     "name": "stdout",
     "output_type": "stream",
     "text": [
      "15000\n",
      "15000\n",
      "135000\n",
      "135000\n"
     ]
    }
   ],
   "source": [
    "path = 'E:/OCR/CRNN_MJSynth/mjsynth/mnt/ramdisk/max/90kDICT32px'\n",
    "#path = '/media/monica/New Volume/OCR/CRNN_MJSynth/mjsynth/mnt/ramdisk/max/90kDICT32px'\n",
    "\n",
    "#for training dataset\n",
    "train_img_addr = []\n",
    "train_labels = []\n",
    "\n",
    "#for validation dataset\n",
    "test_img_addr = []\n",
    "test_labels = []\n",
    "\n",
    "max_label_len = 0\n",
    "\n",
    "i = 1\n",
    "flag = 0\n",
    "\n",
    "for root, dirnames, filenames in os.walk(path):\n",
    "    \n",
    "    for f_name in fnmatch.filter(filenames, '*.jpg'):\n",
    "        label = f_name.split('_')[1]\n",
    "         # split the 150000 data into validation and training dataset as 10% and 90% respectively\n",
    "        if i%10 == 0:     \n",
    "            test_img_addr.append(os.path.join(root, f_name))\n",
    "            test_labels.append(label)\n",
    "        else:\n",
    "            train_img_addr.append(os.path.join(root, f_name))\n",
    "            train_labels.append(label) \n",
    "        \n",
    "        # break the loop if total data is 150000\n",
    "        if i == 150000:\n",
    "            flag = 1\n",
    "            break\n",
    "        i+=1\n",
    "    if flag == 1:\n",
    "        break\n",
    "\n",
    "print(len(test_img_addr))\n",
    "print(len(test_labels))\n",
    "print(len(train_img_addr))\n",
    "print(len(train_labels))"
   ]
  },
  {
   "cell_type": "code",
   "execution_count": 5,
   "metadata": {},
   "outputs": [
    {
     "data": {
      "text/plain": [
       "['Classmates',\n",
       " 'greater',\n",
       " 'BULLFROG',\n",
       " 'NUCLEAR',\n",
       " 'maximilian',\n",
       " 'reedy',\n",
       " 'reformulated',\n",
       " 'Insulators']"
      ]
     },
     "execution_count": 5,
     "metadata": {},
     "output_type": "execute_result"
    }
   ],
   "source": [
    "train_labels[:8]"
   ]
  },
  {
   "cell_type": "code",
   "execution_count": 6,
   "metadata": {},
   "outputs": [],
   "source": [
    "train_shape = (len(train_img_addr), 32, 128, 1)\n",
    "test_shape = (len(test_img_addr), 32, 128, 1)\n",
    "\n",
    "hdf5_path = 'E:/OCR/CRNN_MJSynth/mjsynth_150000.hdf5'\n",
    "#hdf5_path = \"/media/monica/New Volume/OCR/mjsynth_1500.hdf5\"\n",
    "f = h5py.File(hdf5_path, mode='w')"
   ]
  },
  {
   "cell_type": "code",
   "execution_count": 7,
   "metadata": {},
   "outputs": [
    {
     "name": "stderr",
     "output_type": "stream",
     "text": [
      "C:\\Anaconda3\\envs\\deep-learning\\lib\\site-packages\\ipykernel_launcher.py:4: H5pyDeprecationWarning: Deprecated; use special_dtype(vlen=basetype) instead\n",
      "  after removing the cwd from sys.path.\n"
     ]
    }
   ],
   "source": [
    "f.create_dataset(\"train_img\", train_shape)\n",
    "f.create_dataset(\"test_img\", test_shape)\n",
    "\n",
    "str_type = h5py.new_vlen(str) \n",
    "f.create_dataset(\"train_labels\", (len(train_img_addr), ), dtype=str_type)\n",
    "f['train_labels'][...] = train_labels\n",
    "\n",
    "f.create_dataset(\"test_labels\", (len(test_img_addr), ), dtype=str_type)\n",
    "f['test_labels'][...] = test_labels"
   ]
  },
  {
   "cell_type": "code",
   "execution_count": 8,
   "metadata": {},
   "outputs": [
    {
     "name": "stdout",
     "output_type": "stream",
     "text": [
      "test_img\n",
      "test_labels\n",
      "train_img\n",
      "train_labels\n"
     ]
    }
   ],
   "source": [
    "for key in f.keys():\n",
    "        print(key)"
   ]
  },
  {
   "cell_type": "code",
   "execution_count": 9,
   "metadata": {},
   "outputs": [
    {
     "name": "stdout",
     "output_type": "stream",
     "text": [
      "Train data: 91525/135000\n",
      "Test data: 10190/135000\n"
     ]
    }
   ],
   "source": [
    "j = 0\n",
    "for i in range(len(train_img_addr)):\n",
    "\n",
    "    addr = train_img_addr[i]\n",
    "    img = cv2.imread(addr)\n",
    "    img = cv2.cvtColor(img, cv2.COLOR_BGR2GRAY)\n",
    "        \n",
    "            # reshape image to (32,128,1)\n",
    "    #print(type(img),img.shape, train_labels[i])\n",
    "    w, h = img.shape\n",
    "    flag = False\n",
    "    \n",
    "    if h > 128 or w > 32:\n",
    "        continue\n",
    "    j += 1\n",
    "    if w < 32:\n",
    "        add_zeros = np.ones((32-w, h))*255\n",
    "        img = np.concatenate((img, add_zeros))\n",
    "        flag = True\n",
    "        #img = np.expand_dims(img , axis = 2)\n",
    " \n",
    "    if h < 128:\n",
    "        add_zeros = np.ones((32, 128-h))*255\n",
    "        img = np.concatenate((img, add_zeros), axis=1)\n",
    "        img = np.expand_dims(img , axis = 2)\n",
    "        flag = True\n",
    "    if h == 128 or w == 32 and not flag:\n",
    "        img = np.expand_dims(img , axis = 2)\n",
    "            # Normalize each image\n",
    "    img = img/255.\n",
    "    #print(img.shape, train_labels[i])\n",
    "    f[\"train_img\"][i, ...] = img[None] \n",
    "print ('Train data: {}/{}'.format(j, len(train_img_addr)) )\n",
    "\n",
    "# loop over test paths\n",
    "j = 0\n",
    "for i in range(len(test_img_addr)):\n",
    "\n",
    "    addr = test_img_addr[i]\n",
    "    img = cv2.imread(addr)\n",
    "    img = cv2.cvtColor(img, cv2.COLOR_BGR2GRAY)\n",
    "        \n",
    "            # reshape image to (32,128,1)\n",
    "    w, h = img.shape\n",
    "    flag = False\n",
    "    \n",
    "    if h > 128 or w > 32:\n",
    "        continue\n",
    "    j += 1\n",
    "    if w < 32:\n",
    "        add_zeros = np.ones((32-w, h))*255\n",
    "        img = np.concatenate((img, add_zeros))\n",
    "        flag = True\n",
    "        \n",
    "    if h < 128:\n",
    "        add_zeros = np.ones((32, 128-h))*255\n",
    "        img = np.concatenate((img, add_zeros), axis=1)\n",
    "        img = np.expand_dims(img , axis = 2)\n",
    "        flag = True\n",
    "    \n",
    "    if h == 128 or w == 32 and not flag:\n",
    "        img = np.expand_dims(img , axis = 2)\n",
    "            # Normalize each image\n",
    "    img = img/255.\n",
    "    f[\"test_img\"][i, ...] = img[None]\n",
    "print ('Test data: {}/{}'.format(j,  len(train_img_addr)) )"
   ]
  },
  {
   "cell_type": "code",
   "execution_count": 10,
   "metadata": {},
   "outputs": [
    {
     "name": "stdout",
     "output_type": "stream",
     "text": [
      "[[[0.21960784]\n",
      "  [0.19607843]\n",
      "  [0.18431373]\n",
      "  ...\n",
      "  [1.        ]\n",
      "  [1.        ]\n",
      "  [1.        ]]\n",
      "\n",
      " [[0.20392157]\n",
      "  [0.19607843]\n",
      "  [0.20392157]\n",
      "  ...\n",
      "  [1.        ]\n",
      "  [1.        ]\n",
      "  [1.        ]]\n",
      "\n",
      " [[0.19215687]\n",
      "  [0.2       ]\n",
      "  [0.22745098]\n",
      "  ...\n",
      "  [1.        ]\n",
      "  [1.        ]\n",
      "  [1.        ]]\n",
      "\n",
      " ...\n",
      "\n",
      " [[0.2       ]\n",
      "  [0.2       ]\n",
      "  [0.2       ]\n",
      "  ...\n",
      "  [1.        ]\n",
      "  [1.        ]\n",
      "  [1.        ]]\n",
      "\n",
      " [[0.20784314]\n",
      "  [0.20392157]\n",
      "  [0.2       ]\n",
      "  ...\n",
      "  [1.        ]\n",
      "  [1.        ]\n",
      "  [1.        ]]\n",
      "\n",
      " [[1.        ]\n",
      "  [1.        ]\n",
      "  [1.        ]\n",
      "  ...\n",
      "  [1.        ]\n",
      "  [1.        ]\n",
      "  [1.        ]]]\n",
      "Peens\n",
      "[[[0.972549  ]\n",
      "  [0.99215686]\n",
      "  [0.95686275]\n",
      "  ...\n",
      "  [1.        ]\n",
      "  [1.        ]\n",
      "  [1.        ]]\n",
      "\n",
      " [[0.9529412 ]\n",
      "  [0.9882353 ]\n",
      "  [0.9882353 ]\n",
      "  ...\n",
      "  [1.        ]\n",
      "  [1.        ]\n",
      "  [1.        ]]\n",
      "\n",
      " [[0.9647059 ]\n",
      "  [1.        ]\n",
      "  [0.99215686]\n",
      "  ...\n",
      "  [1.        ]\n",
      "  [1.        ]\n",
      "  [1.        ]]\n",
      "\n",
      " ...\n",
      "\n",
      " [[0.9764706 ]\n",
      "  [0.9764706 ]\n",
      "  [0.9764706 ]\n",
      "  ...\n",
      "  [1.        ]\n",
      "  [1.        ]\n",
      "  [1.        ]]\n",
      "\n",
      " [[0.9764706 ]\n",
      "  [0.9764706 ]\n",
      "  [0.9764706 ]\n",
      "  ...\n",
      "  [1.        ]\n",
      "  [1.        ]\n",
      "  [1.        ]]\n",
      "\n",
      " [[1.        ]\n",
      "  [1.        ]\n",
      "  [1.        ]\n",
      "  ...\n",
      "  [1.        ]\n",
      "  [1.        ]\n",
      "  [1.        ]]]\n",
      "Classmates\n"
     ]
    }
   ],
   "source": [
    "for key in f.keys():\n",
    "    data = f[key]\n",
    "    print(data[0])"
   ]
  },
  {
   "cell_type": "code",
   "execution_count": 11,
   "metadata": {},
   "outputs": [
    {
     "data": {
      "text/plain": [
       "(32, 128, 1)"
      ]
     },
     "execution_count": 11,
     "metadata": {},
     "output_type": "execute_result"
    }
   ],
   "source": [
    "f['train_img'][0].shape"
   ]
  },
  {
   "cell_type": "code",
   "execution_count": null,
   "metadata": {},
   "outputs": [],
   "source": []
  }
 ],
 "metadata": {
  "kernelspec": {
   "display_name": "Python 3",
   "language": "python",
   "name": "python3"
  },
  "language_info": {
   "codemirror_mode": {
    "name": "ipython",
    "version": 3
   },
   "file_extension": ".py",
   "mimetype": "text/x-python",
   "name": "python",
   "nbconvert_exporter": "python",
   "pygments_lexer": "ipython3",
   "version": "3.7.4"
  }
 },
 "nbformat": 4,
 "nbformat_minor": 2
}
