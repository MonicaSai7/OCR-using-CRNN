{
 "cells": [
  {
   "cell_type": "code",
   "execution_count": 1,
   "metadata": {},
   "outputs": [],
   "source": [
    "import os\n",
    "import string\n",
    "import cv2\n",
    "import fnmatch\n",
    "import numpy as np\n",
    "import h5py"
   ]
  },
  {
   "cell_type": "code",
   "execution_count": 2,
   "metadata": {},
   "outputs": [
    {
     "name": "stdout",
     "output_type": "stream",
     "text": [
      "abcdefghijklmnopqrstuvwxyzABCDEFGHIJKLMNOPQRSTUVWXYZ0123456789\n"
     ]
    }
   ],
   "source": [
    "char_list = string.ascii_letters + string.digits\n",
    "print(char_list)"
   ]
  },
  {
   "cell_type": "code",
   "execution_count": null,
   "metadata": {},
   "outputs": [],
   "source": []
  },
  {
   "cell_type": "code",
   "execution_count": 3,
   "metadata": {},
   "outputs": [
    {
     "name": "stdout",
     "output_type": "stream",
     "text": [
      "15000\n",
      "15000\n",
      "135000\n",
      "135000\n"
     ]
    }
   ],
   "source": [
    "#path = 'E:/OCR/CRNN_MJSynth/mjsynth/mnt/ramdisk/max/90kDICT32px'\n",
    "path = '/media/monica/New Volume/OCR/CRNN_MJSynth/mjsynth/mnt/ramdisk/max/90kDICT32px'\n",
    "\n",
    "#for training dataset\n",
    "train_img_addr = []\n",
    "train_labels = []\n",
    "\n",
    "#for validation dataset\n",
    "test_img_addr = []\n",
    "test_labels = []\n",
    "\n",
    "max_label_len = 0\n",
    "\n",
    "i = 1\n",
    "flag = 0\n",
    "\n",
    "for root, dirnames, filenames in os.walk(path):\n",
    "    \n",
    "    for f_name in fnmatch.filter(filenames, '*.jpg'):\n",
    "        img = cv2.imread(os.path.join(root, f_name))\n",
    "        img = cv2.cvtColor(img, cv2.COLOR_BGR2GRAY)\n",
    "        h, w = img.shape\n",
    "        #flag = False\n",
    "    \n",
    "        if w > 128 or h > 32:\n",
    "            continue\n",
    "            \n",
    "        label = f_name.split('_')[1]\n",
    "         # split the 250000 data into validation and training dataset as 10% and 90% respectively\n",
    "        if i%10 == 0:     \n",
    "            test_img_addr.append(os.path.join(root, f_name))\n",
    "            test_labels.append(label)\n",
    "        else:\n",
    "            train_img_addr.append(os.path.join(root, f_name))\n",
    "            train_labels.append(label) \n",
    "        \n",
    "        # break the loop if total data is 150000\n",
    "        if i == 150000:\n",
    "            flag = 1\n",
    "            break\n",
    "        i+=1\n",
    "    if flag == 1:\n",
    "        break\n",
    "\n",
    "print(len(test_img_addr))\n",
    "print(len(test_labels))\n",
    "print(len(train_img_addr))\n",
    "print(len(train_labels))"
   ]
  },
  {
   "cell_type": "code",
   "execution_count": 4,
   "metadata": {},
   "outputs": [
    {
     "data": {
      "text/plain": [
       "['Classmates',\n",
       " 'greater',\n",
       " 'NUCLEAR',\n",
       " 'reedy',\n",
       " 'FLOWING',\n",
       " 'Peens',\n",
       " 'besots',\n",
       " 'TELEPATHIC']"
      ]
     },
     "execution_count": 4,
     "metadata": {},
     "output_type": "execute_result"
    }
   ],
   "source": [
    "train_labels[:8]"
   ]
  },
  {
   "cell_type": "code",
   "execution_count": 3,
   "metadata": {},
   "outputs": [],
   "source": [
    "train_shape = (len(train_img_addr), 32, 128, 1)\n",
    "test_shape = (len(test_img_addr), 32, 128, 1)\n",
    "\n",
    "#hdf5_path = 'E:/OCR/CRNN_MJSynth/mjsynth_250000.hdf5'\n",
    "hdf5_path = \"/media/monica/New Volume/OCR/mjsynth_150000.hdf5\"\n",
    "f = h5py.File(hdf5_path, mode='w')"
   ]
  },
  {
   "cell_type": "code",
   "execution_count": 10,
   "metadata": {},
   "outputs": [
    {
     "name": "stderr",
     "output_type": "stream",
     "text": [
      "/home/monica/anaconda3/envs/deep-learning/lib/python3.7/site-packages/ipykernel_launcher.py:4: H5pyDeprecationWarning: Deprecated; use special_dtype(vlen=basetype) instead\n",
      "  after removing the cwd from sys.path.\n"
     ]
    }
   ],
   "source": [
    "f.create_dataset(\"train_img\", train_shape)\n",
    "f.create_dataset(\"valid_img\", test_shape)\n",
    "\n",
    "str_type = h5py.new_vlen(str) #Very important\n",
    "f.create_dataset(\"train_labels\", (len(train_img_addr), ), dtype=str_type)\n",
    "f['train_labels'][...] = train_labels\n",
    "\n",
    "f.create_dataset(\"valid_labels\", (len(test_img_addr), ), dtype=str_type)\n",
    "f['valid_labels'][...] = test_labels"
   ]
  },
  {
   "cell_type": "code",
   "execution_count": 18,
   "metadata": {},
   "outputs": [
    {
     "name": "stdout",
     "output_type": "stream",
     "text": [
      "train_img\n",
      "train_labels\n",
      "valid_img\n",
      "valid_labels\n"
     ]
    }
   ],
   "source": [
    "for key in f.keys():\n",
    "        print(key)"
   ]
  },
  {
   "cell_type": "code",
   "execution_count": 12,
   "metadata": {},
   "outputs": [],
   "source": [
    "j = 0\n",
    "for i in range(len(train_img_addr)):\n",
    "\n",
    "    addr = train_img_addr[i]\n",
    "    img = cv2.imread(addr)\n",
    "    img = cv2.cvtColor(img, cv2.COLOR_BGR2GRAY)\n",
    "        \n",
    "    # reshape image to (32,128,1)\n",
    "    #print(type(img),img.shape, train_labels[i])\n",
    "    h, w = img.shape\n",
    "    #flag = False\n",
    "    \n",
    "    if w > 128 or h > 32:\n",
    "        j = i\n",
    "        continue\n",
    "    #j += 1\n",
    "    if h < 32:\n",
    "        add_zeros = np.ones((32-h, w))*255\n",
    "        img = np.concatenate((img, add_zeros))\n",
    "        #flag = True\n",
    "        #img = np.expand_dims(img , axis = 2)\n",
    " \n",
    "    if w < 128:\n",
    "        add_zeros = np.ones((32, 128-w))*255\n",
    "        img = np.concatenate((img, add_zeros), axis=1)\n",
    "        img = np.expand_dims(img , axis = 2)\n",
    "        #flag = True\n",
    "   
    "    # Normalize each image\n",
    "    img = img/255.\n",
    "    #print(img.shape, train_labels[i])\n",
    "    f[\"train_img\"][i, ...] = img[None] \n",
    "#print ('Train data: {}/{}'.format(j, len(train_img_addr)) )\n",
    "\n",
    "# loop over test paths\n",
    "j = 0\n",
    "for i in range(len(test_img_addr)):\n",
    "\n",
    "    addr = test_img_addr[i]\n",
    "    img = cv2.imread(addr)\n",
    "    img = cv2.cvtColor(img, cv2.COLOR_BGR2GRAY)\n",
    "        \n",
    "            # reshape image to (32,128,1)\n",
    "    h, w = img.shape\n",
    "    #flag = False\n",
    "    \n",
    "    if w > 128 or h > 32:\n",
    "        j = i\n",
    "        continue\n",
    "    #j += 1\n",
    "    if h < 32:\n",
    "        add_zeros = np.ones((32-h, w))*255\n",
    "        img = np.concatenate((img, add_zeros))\n",
    "       #flag = True\n",
    "        \n",
    "    if w < 128:\n",
    "        add_zeros = np.ones((32, 128-w))*255\n",
    "        img = np.concatenate((img, add_zeros), axis=1)\n",
    "        img = np.expand_dims(img , axis = 2)\n",
    "        #flag = True\n",
    "    \n",
    "    
    "    # Normalize each image\n",
    "    img = img/255.\n",
    "    f[\"valid_img\"][i, ...] = img[None]\n",
    "#print ('Test data: {}/{}'.format(j,  len(train_img_addr)) )"
   ]
  },
  {
   "cell_type": "code",
   "execution_count": 4,
   "metadata": {},
   "outputs": [
    {
     "name": "stdout",
     "output_type": "stream",
     "text": [
      "[[[0.972549  ]\n",
      "  [0.99215686]\n",
      "  [0.95686275]\n",
      "  ...\n",
      "  [1.        ]\n",
      "  [1.        ]\n",
      "  [1.        ]]\n",
      "\n",
      " [[0.9529412 ]\n",
      "  [0.9882353 ]\n",
      "  [0.9882353 ]\n",
      "  ...\n",
      "  [1.        ]\n",
      "  [1.        ]\n",
      "  [1.        ]]\n",
      "\n",
      " [[0.9647059 ]\n",
      "  [1.        ]\n",
      "  [0.99215686]\n",
      "  ...\n",
      "  [1.        ]\n",
      "  [1.        ]\n",
      "  [1.        ]]\n",
      "\n",
      " ...\n",
      "\n",
      " [[0.9764706 ]\n",
      "  [0.9764706 ]\n",
      "  [0.9764706 ]\n",
      "  ...\n",
      "  [1.        ]\n",
      "  [1.        ]\n",
      "  [1.        ]]\n",
      "\n",
      " [[0.9764706 ]\n",
      "  [0.9764706 ]\n",
      "  [0.9764706 ]\n",
      "  ...\n",
      "  [1.        ]\n",
      "  [1.        ]\n",
      "  [1.        ]]\n",
      "\n",
      " [[1.        ]\n",
      "  [1.        ]\n",
      "  [1.        ]\n",
      "  ...\n",
      "  [1.        ]\n",
      "  [1.        ]\n",
      "  [1.        ]]]\n",
      "Classmates\n",
      "[[[0.15294118]\n",
      "  [0.16470589]\n",
      "  [0.1764706 ]\n",
      "  ...\n",
      "  [1.        ]\n",
      "  [1.        ]\n",
      "  [1.        ]]\n",
      "\n",
      " [[0.19607843]\n",
      "  [0.18039216]\n",
      "  [0.16470589]\n",
      "  ...\n",
      "  [1.        ]\n",
      "  [1.        ]\n",
      "  [1.        ]]\n",
      "\n",
      " [[0.18431373]\n",
      "  [0.16470589]\n",
      "  [0.15294118]\n",
      "  ...\n",
      "  [1.        ]\n",
      "  [1.        ]\n",
      "  [1.        ]]\n",
      "\n",
      " ...\n",
      "\n",
      " [[0.1764706 ]\n",
      "  [0.17254902]\n",
      "  [0.17254902]\n",
      "  ...\n",
      "  [1.        ]\n",
      "  [1.        ]\n",
      "  [1.        ]]\n",
      "\n",
      " [[0.1882353 ]\n",
      "  [0.1882353 ]\n",
      "  [0.18431373]\n",
      "  ...\n",
      "  [1.        ]\n",
      "  [1.        ]\n",
      "  [1.        ]]\n",
      "\n",
      " [[1.        ]\n",
      "  [1.        ]\n",
      "  [1.        ]\n",
      "  ...\n",
      "  [1.        ]\n",
      "  [1.        ]\n",
      "  [1.        ]]]\n",
      "Expend\n"
     ]
    }
   ],
   "source": [
    "with h5py.File(hdf5_path, 'r') as fl:\n",
    "    for key in fl.keys():\n",
    "        data = fl[key]\n",
    "        print(data[0])"
   ]
  },
  {
   "cell_type": "code",
   "execution_count": 20,
   "metadata": {},
   "outputs": [
    {
     "data": {
      "text/plain": [
       "(1350,)"
      ]
     },
     "execution_count": 20,
     "metadata": {},
     "output_type": "execute_result"
    }
   ],
   "source": [
    "f['train_labels'].shape"
   ]
  },
  {
   "cell_type": "code",
   "execution_count": 17,
   "metadata": {},
   "outputs": [
    {
     "data": {
      "text/plain": [
       "['train_img', 'train_labels', 'valid_img', 'valid_labels']"
      ]
     },
     "execution_count": 17,
     "metadata": {},
     "output_type": "execute_result"
    }
   ],
   "source": [
    "list(f.keys())"
   ]
  },
  {
   "cell_type": "code",
   "execution_count": 22,
   "metadata": {},
   "outputs": [
    {
     "data": {
      "text/plain": [
       "array([[[0.15294118],\n",
       "        [0.16470589],\n",
       "        [0.1764706 ],\n",
       "        ...,\n",
       "        [1.        ],\n",
       "        [1.        ],\n",
       "        [1.        ]],\n",
       "\n",
       "       [[0.19607843],\n",
       "        [0.18039216],\n",
       "        [0.16470589],\n",
       "        ...,\n",
       "        [1.        ],\n",
       "        [1.        ],\n",
       "        [1.        ]],\n",
       "\n",
       "       [[0.18431373],\n",
       "        [0.16470589],\n",
       "        [0.15294118],\n",
       "        ...,\n",
       "        [1.        ],\n",
       "        [1.        ],\n",
       "        [1.        ]],\n",
       "\n",
       "       ...,\n",
       "\n",
       "       [[0.1764706 ],\n",
       "        [0.17254902],\n",
       "        [0.17254902],\n",
       "        ...,\n",
       "        [1.        ],\n",
       "        [1.        ],\n",
       "        [1.        ]],\n",
       "\n",
       "       [[0.1882353 ],\n",
       "        [0.1882353 ],\n",
       "        [0.18431373],\n",
       "        ...,\n",
       "        [1.        ],\n",
       "        [1.        ],\n",
       "        [1.        ]],\n",
       "\n",
       "       [[1.        ],\n",
       "        [1.        ],\n",
       "        [1.        ],\n",
       "        ...,\n",
       "        [1.        ],\n",
       "        [1.        ],\n",
       "        [1.        ]]], dtype=float32)"
      ]
     },
     "execution_count": 22,
     "metadata": {},
     "output_type": "execute_result"
    }
   ],
   "source": [
    "f['valid_img'][j]"
   ]
  },
  {
   "cell_type": "code",
   "execution_count": null,
   "metadata": {},
   "outputs": [],
   "source": []
  }
 ],
 "metadata": {
  "kernelspec": {
   "display_name": "Python 3",
   "language": "python",
   "name": "python3"
  },
  "language_info": {
   "codemirror_mode": {
    "name": "ipython",
    "version": 3
   },
   "file_extension": ".py",
   "mimetype": "text/x-python",
   "name": "python",
   "nbconvert_exporter": "python",
   "pygments_lexer": "ipython3",
   "version": "3.7.6"
  }
 },
 "nbformat": 4,
 "nbformat_minor": 2
}
